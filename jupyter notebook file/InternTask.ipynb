{
 "cells": [
  {
   "cell_type": "code",
   "execution_count": 1,
   "metadata": {},
   "outputs": [
    {
     "name": "stdout",
     "output_type": "stream",
     "text": [
      "Enter size of list : 4\n",
      "3 0\n",
      "0 10\n",
      "2 1\n",
      "5 3\n",
      "[(3, 0), (2, 1), (5, 3), (0, 10)]\n"
     ]
    }
   ],
   "source": [
    "#1 Get a list of tuples. Write a function to sort the list \n",
    "# by second value. Do not use existing functions. \n",
    "# Example input: [(3,0), (0,10), (2,1), (5,3)] \n",
    "# Example output: [(3,0),(2,1),(5,3),(0,10)] \n",
    "def sort(l1):\n",
    "    for i in range(len(l1)):\n",
    "        for j in range(len(l1)-i-1):\n",
    "            if l1[j][1]>l1[j+1][1]:\n",
    "                l1[j],l1[j+1]=l1[j+1],l1[j]\n",
    "    return l1\n",
    "n=int(input('Enter size of list : '))\n",
    "l=[]\n",
    "for i in range(n):\n",
    "    l.append(tuple(map(int,input().split())))\n",
    "print(sort(l))"
   ]
  },
  {
   "cell_type": "code",
   "execution_count": 2,
   "metadata": {},
   "outputs": [
    {
     "name": "stdout",
     "output_type": "stream",
     "text": [
      "0 0 1 0 0.5 0.866\n",
      "{x: 0.500000000000000, y: 0.288666666666667}\n"
     ]
    }
   ],
   "source": [
    "#4 Given the coordinates of vertices (x,y) of an equilateral triangle, calculate circumcenter.\n",
    "from sympy import symbols, Eq, solve\n",
    "x, y = symbols('x y')\n",
    "x1, y1, x2, y2, x3, y3 = map(float, input().split())\n",
    "mid_pt1 = list([(x2+x3)/2, (y2+y3)/2])\n",
    "mid_pt2 = list([(x1+x3)/2, (y1+y3)/2])\n",
    "m1 = (y1-mid_pt1[1])/(x1-mid_pt1[0])\n",
    "m2 = (y2-mid_pt2[1])/(x2-mid_pt2[0])\n",
    "eq1 = Eq(y-y2-m2*x+m2*x2, 0)\n",
    "eq2 = Eq(y-y1-m1*x+m1*x1, 0)\n",
    "center = solve((eq1, eq2), (x, y))\n",
    "print(center)"
   ]
  },
  {
   "cell_type": "code",
   "execution_count": 3,
   "metadata": {},
   "outputs": [
    {
     "name": "stdout",
     "output_type": "stream",
     "text": [
      "Enter vertices of equilateral triangle - 0.5 0.866 0 0 1 0\n",
      "Enter N value - 3\n",
      "Triangle #1: [0.0, 0.0] [0.25, 0.0] [0.125000000000000, 0.216500000000000] \n",
      "Triangle #2: [0.25, 0.0] [0.5, 0.0] [0.375000000000000, 0.216500000000000] \n",
      "Triangle #3: [0.5, 0.0] [0.75, 0.0] [0.625000000000000, 0.216500000000000] \n",
      "Triangle #4: [0.75, 0.0] [1.0, 0.0] [0.875000000000000, 0.216500000000000] \n",
      "Triangle #5: [0.125000000000000, 0.216500000000000] [0.375000000000000, 0.216500000000000] [0.250000000000000, 0.0] \n",
      "Triangle #6: [0.125000000000000, 0.216500000000000] [0.375000000000000, 0.216500000000000] [0.250000000000000, 0.433000000000000] \n",
      "Triangle #7: [0.375000000000000, 0.216500000000000] [0.625000000000000, 0.216500000000000] [0.500000000000000, 0.0] \n",
      "Triangle #8: [0.375000000000000, 0.216500000000000] [0.625000000000000, 0.216500000000000] [0.500000000000000, 0.433000000000000] \n",
      "Triangle #9: [0.625000000000000, 0.216500000000000] [0.875000000000000, 0.216500000000000] [0.750000000000000, 0.0] \n",
      "Triangle #10: [0.625000000000000, 0.216500000000000] [0.875000000000000, 0.216500000000000] [0.750000000000000, 0.433000000000000] \n",
      "Triangle #11: [0.250000000000000, 0.433000000000000] [0.500000000000000, 0.433000000000000] [0.375000000000000, 0.216500000000000] \n",
      "Triangle #12: [0.250000000000000, 0.433000000000000] [0.500000000000000, 0.433000000000000] [0.375000000000000, 0.649500000000000] \n",
      "Triangle #13: [0.500000000000000, 0.433000000000000] [0.750000000000000, 0.433000000000000] [0.625000000000000, 0.216500000000000] \n",
      "Triangle #14: [0.500000000000000, 0.433000000000000] [0.750000000000000, 0.433000000000000] [0.625000000000000, 0.649500000000000] \n",
      "Triangle #15: [0.375000000000000, 0.649500000000000] [0.625000000000000, 0.649500000000000] [0.500000000000000, 0.433000000000000] \n",
      "Triangle #16: [0.375000000000000, 0.649500000000000] [0.625000000000000, 0.649500000000000] [0.500000000000000, 0.866000000000000] \n"
     ]
    },
    {
     "data": {
      "image/png": "[encoded data removed]",
      "text/plain": [
       "<Figure size 432x288 with 1 Axes>"
      ]
     },
     "metadata": {
      "needs_background": "light"
     },
     "output_type": "display_data"
    }
   ],
   "source": [
    "#5 Imagine an equilateral triangle, with vertices (x1,y1), (x2,y2), (x3,y3). \n",
    "# Suppose you divide the equilateral into smaller but equal sized equilateral triangles, \n",
    "# with \"N\" vertices on each side. Write a program find the coordinates of the inner triangles. \n",
    "# If possible plot the results using matplotlib.\n",
    "from sympy import symbols, Eq, solve\n",
    "import matplotlib.pyplot as plt\n",
    "import matplotlib.tri as mtri\n",
    "import numpy as np\n",
    "import math\n",
    "\n",
    "\n",
    "def slope(x1, y1, x2, y2):\n",
    "    m = None\n",
    "    b = y1-y2\n",
    "    a = x1-x2\n",
    "    if a != 0:\n",
    "        m = b/a\n",
    "    return m\n",
    "\n",
    "\n",
    "def third_point(x1, y1, x2, y2):\n",
    "    global a\n",
    "    eq1 = Eq(pow(x-x1, 2)+pow(y-y1, 2)-pow(a/(n+1), 2), 0)\n",
    "    eq2 = Eq(pow(x-x2, 2)+pow(y-y2, 2)-pow(a/(n+1), 2), 0)\n",
    "    r = solve((eq1, eq2), (x, y))\n",
    "    return r\n",
    "\n",
    "\n",
    "def check(x1, y1, x, y):\n",
    "    global x2, y2, x3, y3\n",
    "    r = (y1-y)*(x3-x2)-(y3-y2)*(x1-x)\n",
    "    if r < 0:\n",
    "        return \"-ve\"\n",
    "    else:\n",
    "        return \"+ve\"\n",
    "\n",
    "\n",
    "x, y = symbols('x y')\n",
    "x1, y1, x2, y2, x3, y3 = map(float, input(\n",
    "    \"Enter vertices of equilateral triangle - \").split())\n",
    "n = int(input(\"Enter N value - \"))\n",
    "c = check(x1, y1, x2, y2)\n",
    "a = math.sqrt(pow((x1-x2), 2)+pow((y1-y2), 2))\n",
    "l = [[x2, y2]]\n",
    "result = []\n",
    "p = 1\n",
    "q = n\n",
    "for i in range(n):\n",
    "    l1 = [((p*x3)+(q*x2))/(p+q), ((p*y3)+(q*y2))/(p+q)]\n",
    "    l.append(l1)\n",
    "    p = p+1\n",
    "    q = q-1\n",
    "l.append([x3, y3])\n",
    "l1 = []\n",
    "for i in range(len(l)-1):\n",
    "    d = third_point(l[i][0], l[i][1], l[i+1][0], l[i+1][1])\n",
    "    s = check(d[0][0], d[0][1], x2, y2)\n",
    "    if c == \"+ve\" and s == \"+ve\":\n",
    "        l1.append([d[0][0], d[0][1]])\n",
    "        result.append(\n",
    "            [[l[i][0], l[i][1]], [l[i+1][0], l[i+1][1]], [d[0][0], d[0][1]]])\n",
    "    elif c == \"-ve\" and s == \"-ve\":\n",
    "        l1.append([d[0][0], d[0][1]])\n",
    "        result.append(\n",
    "            [[l[i][0], l[i][1]], [l[i+1][0], l[i+1][1]], [d[0][0], d[0][1]]])\n",
    "    else:\n",
    "        l1.append([d[1][0], d[1][1]])\n",
    "        result.append(\n",
    "            [[l[i][0], l[i][1]], [l[i+1][0], l[i+1][1]], [d[1][0], d[1][1]]])\n",
    "for i in range(n):\n",
    "    l = []\n",
    "    for i in range(len(l1)-1):\n",
    "        d = third_point(l1[i][0], l1[i][1], l1[i+1][0], l1[i+1][1])\n",
    "        s = check(d[0][0], d[0][1], l1[i][0], l1[i][1])\n",
    "        if c == \"+ve\" and s == \"+ve\":\n",
    "            l.append([d[0][0], d[0][1]])\n",
    "        elif c == \"-ve\" and s == \"-ve\":\n",
    "            l.append([d[0][0], d[0][1]])\n",
    "        else:\n",
    "            l.append([d[1][0], d[1][1]])\n",
    "        result.append(\n",
    "            [[l1[i][0], l1[i][1]], [l1[i+1][0], l1[i+1][1]], [d[0][0], d[0][1]]])\n",
    "        result.append(\n",
    "            [[l1[i][0], l1[i][1]], [l1[i+1][0], l1[i+1][1]], [d[1][0], d[1][1]]])\n",
    "    l1 = []\n",
    "    l1.extend(l)\n",
    "lx = []\n",
    "ly = []\n",
    "for i in range(len(result)):\n",
    "    print(\"Triangle #{}\".format(i+1), end=\": \")\n",
    "    for j in result[i]:\n",
    "        print(j, end=\" \")\n",
    "        lx.append(j[0])\n",
    "        ly.append(j[1])\n",
    "    print()\n",
    "lx.extend([x1, x2, x3])\n",
    "ly.extend([y1, y2, y3])\n",
    "tri = [[i, i+1, i+2] for i in range(0, len(lx), 3)]\n",
    "x = np.asarray(lx, dtype=float)\n",
    "y = np.asarray(ly, dtype=float)\n",
    "triang = mtri.Triangulation(x, y, tri)\n",
    "z = np.cos(1.5 * x) * np.cos(1.5 * y)\n",
    "plt.tricontourf(triang, z)\n",
    "plt.triplot(triang, 'ko-')\n",
    "plt.show()"
   ]
  }
 ],
 "metadata": {
  "kernelspec": {
   "display_name": "Python 3",
   "language": "python",
   "name": "python3"
  },
  "language_info": {
   "codemirror_mode": {
    "name": "ipython",
    "version": 3
   },
   "file_extension": ".py",
   "mimetype": "text/x-python",
   "name": "python",
   "nbconvert_exporter": "python",
   "pygments_lexer": "ipython3",
   "version": "3.8.5"
  }
 },
 "nbformat": 4,
 "nbformat_minor": 4
}
